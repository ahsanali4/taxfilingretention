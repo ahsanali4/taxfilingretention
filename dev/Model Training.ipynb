{
 "cells": [
  {
   "cell_type": "code",
   "execution_count": 1,
   "id": "7dca3f97-4b92-4e28-910b-2f69df8b3fe9",
   "metadata": {},
   "outputs": [],
   "source": [
    "import sys\n",
    "import os\n",
    "\n",
    "# Add the root directory of project to sys.path\n",
    "sys.path.append(os.path.abspath(os.path.join(os.getcwd(), '..')))"
   ]
  },
  {
   "cell_type": "markdown",
   "id": "bd184350-64da-4e6b-bbd3-7a3389bf5a25",
   "metadata": {},
   "source": [
    "# Imports and Initialization"
   ]
  },
  {
   "cell_type": "code",
   "execution_count": 2,
   "id": "5e9fd8c2-175d-4466-b0d7-5ca09b4545f8",
   "metadata": {},
   "outputs": [],
   "source": [
    "from taxfilingretention.core.preprocessing import Preprocessor\n",
    "from taxfilingretention.core.model_training import Classifier"
   ]
  },
  {
   "cell_type": "code",
   "execution_count": 3,
   "id": "1095ec3d-b923-4b0a-a01c-3ed207a95b1f",
   "metadata": {},
   "outputs": [],
   "source": [
    "preprocessor = Preprocessor.from_csv(\"../data/dataset.csv\")"
   ]
  },
  {
   "cell_type": "code",
   "execution_count": 4,
   "id": "40fbf0bf-2645-48fb-a514-830ad849eb88",
   "metadata": {},
   "outputs": [],
   "source": [
    "data = preprocessor.data"
   ]
  },
  {
   "cell_type": "code",
   "execution_count": 5,
   "id": "d8a892eb-cbb5-4ec2-896e-b7f3cf0792ec",
   "metadata": {},
   "outputs": [
    {
     "data": {
      "text/html": [
       "<div>\n",
       "<style scoped>\n",
       "    .dataframe tbody tr th:only-of-type {\n",
       "        vertical-align: middle;\n",
       "    }\n",
       "\n",
       "    .dataframe tbody tr th {\n",
       "        vertical-align: top;\n",
       "    }\n",
       "\n",
       "    .dataframe thead th {\n",
       "        text-align: right;\n",
       "    }\n",
       "</style>\n",
       "<table border=\"1\" class=\"dataframe\">\n",
       "  <thead>\n",
       "    <tr style=\"text-align: right;\">\n",
       "      <th></th>\n",
       "      <th>age</th>\n",
       "      <th>income</th>\n",
       "      <th>employment_type</th>\n",
       "      <th>marital_status</th>\n",
       "      <th>time_spent_on_platform</th>\n",
       "      <th>number_of_sessions</th>\n",
       "      <th>fields_filled_percentage</th>\n",
       "      <th>previous_year_filing</th>\n",
       "      <th>device_type</th>\n",
       "      <th>referral_source</th>\n",
       "      <th>completed_filing</th>\n",
       "    </tr>\n",
       "  </thead>\n",
       "  <tbody>\n",
       "    <tr>\n",
       "      <th>0</th>\n",
       "      <td>56</td>\n",
       "      <td>108031</td>\n",
       "      <td>unemployed</td>\n",
       "      <td>married</td>\n",
       "      <td>96.472746</td>\n",
       "      <td>7</td>\n",
       "      <td>0.598336</td>\n",
       "      <td>1</td>\n",
       "      <td>tablet</td>\n",
       "      <td>social_media_ad</td>\n",
       "      <td>1</td>\n",
       "    </tr>\n",
       "    <tr>\n",
       "      <th>1</th>\n",
       "      <td>46</td>\n",
       "      <td>57019</td>\n",
       "      <td>full_time</td>\n",
       "      <td>single</td>\n",
       "      <td>69.462216</td>\n",
       "      <td>9</td>\n",
       "      <td>0.959306</td>\n",
       "      <td>0</td>\n",
       "      <td>tablet</td>\n",
       "      <td>social_media_ad</td>\n",
       "      <td>1</td>\n",
       "    </tr>\n",
       "    <tr>\n",
       "      <th>2</th>\n",
       "      <td>32</td>\n",
       "      <td>64948</td>\n",
       "      <td>unemployed</td>\n",
       "      <td>single</td>\n",
       "      <td>94.738805</td>\n",
       "      <td>5</td>\n",
       "      <td>0.707122</td>\n",
       "      <td>0</td>\n",
       "      <td>tablet</td>\n",
       "      <td>organic_search</td>\n",
       "      <td>1</td>\n",
       "    </tr>\n",
       "    <tr>\n",
       "      <th>3</th>\n",
       "      <td>60</td>\n",
       "      <td>85133</td>\n",
       "      <td>part_time</td>\n",
       "      <td>divorced</td>\n",
       "      <td>96.874083</td>\n",
       "      <td>5</td>\n",
       "      <td>0.908276</td>\n",
       "      <td>1</td>\n",
       "      <td>tablet</td>\n",
       "      <td>friend_referral</td>\n",
       "      <td>1</td>\n",
       "    </tr>\n",
       "    <tr>\n",
       "      <th>4</th>\n",
       "      <td>25</td>\n",
       "      <td>86458</td>\n",
       "      <td>unemployed</td>\n",
       "      <td>single</td>\n",
       "      <td>66.033974</td>\n",
       "      <td>6</td>\n",
       "      <td>0.769536</td>\n",
       "      <td>1</td>\n",
       "      <td>desktop</td>\n",
       "      <td>organic_search</td>\n",
       "      <td>1</td>\n",
       "    </tr>\n",
       "  </tbody>\n",
       "</table>\n",
       "</div>"
      ],
      "text/plain": [
       "   age  income employment_type marital_status  time_spent_on_platform  \\\n",
       "0   56  108031      unemployed        married               96.472746   \n",
       "1   46   57019       full_time         single               69.462216   \n",
       "2   32   64948      unemployed         single               94.738805   \n",
       "3   60   85133       part_time       divorced               96.874083   \n",
       "4   25   86458      unemployed         single               66.033974   \n",
       "\n",
       "   number_of_sessions  fields_filled_percentage  previous_year_filing  \\\n",
       "0                   7                  0.598336                     1   \n",
       "1                   9                  0.959306                     0   \n",
       "2                   5                  0.707122                     0   \n",
       "3                   5                  0.908276                     1   \n",
       "4                   6                  0.769536                     1   \n",
       "\n",
       "  device_type  referral_source  completed_filing  \n",
       "0      tablet  social_media_ad                 1  \n",
       "1      tablet  social_media_ad                 1  \n",
       "2      tablet   organic_search                 1  \n",
       "3      tablet  friend_referral                 1  \n",
       "4     desktop   organic_search                 1  "
      ]
     },
     "execution_count": 5,
     "metadata": {},
     "output_type": "execute_result"
    }
   ],
   "source": [
    "data.head()"
   ]
  },
  {
   "cell_type": "code",
   "execution_count": 6,
   "id": "d55cb452-bfd5-49f8-8170-cc22239370b2",
   "metadata": {},
   "outputs": [
    {
     "data": {
      "text/plain": [
       "completed_filing\n",
       "1    4480\n",
       "0     520\n",
       "Name: count, dtype: int64"
      ]
     },
     "execution_count": 6,
     "metadata": {},
     "output_type": "execute_result"
    }
   ],
   "source": [
    "data.completed_filing.value_counts()"
   ]
  },
  {
   "cell_type": "code",
   "execution_count": 7,
   "id": "78eed55c-cdb9-4d28-a36d-c49ad68bc852",
   "metadata": {},
   "outputs": [
    {
     "data": {
      "text/plain": [
       "Index(['age', 'income', 'employment_type', 'marital_status',\n",
       "       'time_spent_on_platform', 'number_of_sessions',\n",
       "       'fields_filled_percentage', 'previous_year_filing', 'device_type',\n",
       "       'referral_source', 'completed_filing'],\n",
       "      dtype='object')"
      ]
     },
     "execution_count": 7,
     "metadata": {},
     "output_type": "execute_result"
    }
   ],
   "source": [
    "data.columns"
   ]
  },
  {
   "cell_type": "markdown",
   "id": "c477eb00-05c7-4022-b0ea-cd27d1401657",
   "metadata": {},
   "source": [
    "# Data Spliting and Model Training"
   ]
  },
  {
   "cell_type": "code",
   "execution_count": 8,
   "id": "83c7a850-9ecb-446b-a8ee-9e8a2f4b3b88",
   "metadata": {},
   "outputs": [
    {
     "name": "stdout",
     "output_type": "stream",
     "text": [
      "Data successfully split and saved!\n"
     ]
    }
   ],
   "source": [
    "X_train, X_test, y_train, y_test, preprocessor_pipeline = preprocessor.preprocess_data()"
   ]
  },
  {
   "cell_type": "code",
   "execution_count": 11,
   "id": "4b10ae7d-39a7-43e6-8846-cfe4f421fd25",
   "metadata": {},
   "outputs": [
    {
     "name": "stderr",
     "output_type": "stream",
     "text": [
      "C:\\Users\\ahsan\\AppData\\Local\\pypoetry\\Cache\\virtualenvs\\taxfilingretention-3XrtoYp0-py3.11\\Lib\\site-packages\\xgboost\\core.py:158: UserWarning: [14:43:02] WARNING: C:\\buildkite-agent\\builds\\buildkite-windows-cpu-autoscaling-group-i-0c55ff5f71b100e98-1\\xgboost\\xgboost-ci-windows\\src\\learner.cc:740: \n",
      "Parameters: { \"use_label_encoder\" } are not used.\n",
      "\n",
      "  warnings.warn(smsg, UserWarning)\n"
     ]
    },
    {
     "name": "stdout",
     "output_type": "stream",
     "text": [
      "=== XGBoost Model Performance ===\n",
      "              precision    recall  f1-score   support\n",
      "\n",
      "           0       0.00      0.00      0.00        53\n",
      "           1       0.89      1.00      0.94       447\n",
      "\n",
      "    accuracy                           0.89       500\n",
      "   macro avg       0.45      0.50      0.47       500\n",
      "weighted avg       0.80      0.89      0.84       500\n",
      "\n",
      "AUC-ROC: 0.5946\n",
      "Model saved to ../saved_models/model.joblib\n"
     ]
    }
   ],
   "source": [
    "clf = Classifier()\n",
    "clf.train_model(X_train, y_train)\n",
    "clf.evaluate_model(X_test, y_test)\n",
    "clf.save_model(\"../saved_models/model.joblib\")"
   ]
  },
  {
   "cell_type": "code",
   "execution_count": 12,
   "id": "43776461-a3c4-4b00-8135-e49c06092f6f",
   "metadata": {},
   "outputs": [
    {
     "name": "stdout",
     "output_type": "stream",
     "text": [
      "Preprocessor saved to ../saved_models/preprocessor.joblib\n"
     ]
    }
   ],
   "source": [
    "preprocessor.save_preprocessor(\"../saved_models/preprocessor.joblib\")"
   ]
  },
  {
   "cell_type": "code",
   "execution_count": null,
   "id": "4ecbb7fa-5c57-49f5-ac7a-636457d82627",
   "metadata": {},
   "outputs": [],
   "source": []
  }
 ],
 "metadata": {
  "kernelspec": {
   "display_name": "Python 3 (ipykernel)",
   "language": "python",
   "name": "python3"
  },
  "language_info": {
   "codemirror_mode": {
    "name": "ipython",
    "version": 3
   },
   "file_extension": ".py",
   "mimetype": "text/x-python",
   "name": "python",
   "nbconvert_exporter": "python",
   "pygments_lexer": "ipython3",
   "version": "3.11.0"
  }
 },
 "nbformat": 4,
 "nbformat_minor": 5
}
